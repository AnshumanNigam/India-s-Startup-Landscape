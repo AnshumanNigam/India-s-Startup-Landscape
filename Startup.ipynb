{
 "cells": [
  {
   "cell_type": "code",
   "execution_count": 1,
   "id": "92fd9063-4a97-4965-bd24-b77957f7cf37",
   "metadata": {},
   "outputs": [],
   "source": [
    "import pandas as pd\n",
    "import numpy as np\n",
    "import matplotlib.pyplot as plt\n",
    "import seaborn as sns\n",
    "from datetime import datetime\n",
    "from sklearn.model_selection import train_test_split\n",
    "from sklearn.linear_model import LinearRegression, LogisticRegression\n",
    "from sklearn.metrics import mean_squared_error, accuracy_score, classification_report"
   ]
  },
  {
   "cell_type": "code",
   "execution_count": 2,
   "id": "199c3fca-99da-43cc-afdd-62b68b0573b2",
   "metadata": {},
   "outputs": [],
   "source": [
    "df=pd.read_csv(\"startup_funding.csv\")"
   ]
  },
  {
   "cell_type": "code",
   "execution_count": 3,
   "id": "f8f63284-5fc7-42b1-9cd7-81d16a6de14f",
   "metadata": {},
   "outputs": [
    {
     "data": {
      "text/html": [
       "<div>\n",
       "<style scoped>\n",
       "    .dataframe tbody tr th:only-of-type {\n",
       "        vertical-align: middle;\n",
       "    }\n",
       "\n",
       "    .dataframe tbody tr th {\n",
       "        vertical-align: top;\n",
       "    }\n",
       "\n",
       "    .dataframe thead th {\n",
       "        text-align: right;\n",
       "    }\n",
       "</style>\n",
       "<table border=\"1\" class=\"dataframe\">\n",
       "  <thead>\n",
       "    <tr style=\"text-align: right;\">\n",
       "      <th></th>\n",
       "      <th>Sr No</th>\n",
       "      <th>Date dd/mm/yyyy</th>\n",
       "      <th>Startup Name</th>\n",
       "      <th>Industry Vertical</th>\n",
       "      <th>SubVertical</th>\n",
       "      <th>City  Location</th>\n",
       "      <th>Investors Name</th>\n",
       "      <th>InvestmentnType</th>\n",
       "      <th>Amount in USD</th>\n",
       "      <th>Remarks</th>\n",
       "    </tr>\n",
       "  </thead>\n",
       "  <tbody>\n",
       "    <tr>\n",
       "      <th>0</th>\n",
       "      <td>1</td>\n",
       "      <td>09/01/2020</td>\n",
       "      <td>BYJU’S</td>\n",
       "      <td>E-Tech</td>\n",
       "      <td>E-learning</td>\n",
       "      <td>Bengaluru</td>\n",
       "      <td>Tiger Global Management</td>\n",
       "      <td>Private Equity Round</td>\n",
       "      <td>20,00,00,000</td>\n",
       "      <td>NaN</td>\n",
       "    </tr>\n",
       "    <tr>\n",
       "      <th>1</th>\n",
       "      <td>2</td>\n",
       "      <td>13/01/2020</td>\n",
       "      <td>Shuttl</td>\n",
       "      <td>Transportation</td>\n",
       "      <td>App based shuttle service</td>\n",
       "      <td>Gurgaon</td>\n",
       "      <td>Susquehanna Growth Equity</td>\n",
       "      <td>Series C</td>\n",
       "      <td>80,48,394</td>\n",
       "      <td>NaN</td>\n",
       "    </tr>\n",
       "    <tr>\n",
       "      <th>2</th>\n",
       "      <td>3</td>\n",
       "      <td>09/01/2020</td>\n",
       "      <td>Mamaearth</td>\n",
       "      <td>E-commerce</td>\n",
       "      <td>Retailer of baby and toddler products</td>\n",
       "      <td>Bengaluru</td>\n",
       "      <td>Sequoia Capital India</td>\n",
       "      <td>Series B</td>\n",
       "      <td>1,83,58,860</td>\n",
       "      <td>NaN</td>\n",
       "    </tr>\n",
       "    <tr>\n",
       "      <th>3</th>\n",
       "      <td>4</td>\n",
       "      <td>02/01/2020</td>\n",
       "      <td>https://www.wealthbucket.in/</td>\n",
       "      <td>FinTech</td>\n",
       "      <td>Online Investment</td>\n",
       "      <td>New Delhi</td>\n",
       "      <td>Vinod Khatumal</td>\n",
       "      <td>Pre-series A</td>\n",
       "      <td>30,00,000</td>\n",
       "      <td>NaN</td>\n",
       "    </tr>\n",
       "    <tr>\n",
       "      <th>4</th>\n",
       "      <td>5</td>\n",
       "      <td>02/01/2020</td>\n",
       "      <td>Fashor</td>\n",
       "      <td>Fashion and Apparel</td>\n",
       "      <td>Embroiled Clothes For Women</td>\n",
       "      <td>Mumbai</td>\n",
       "      <td>Sprout Venture Partners</td>\n",
       "      <td>Seed Round</td>\n",
       "      <td>18,00,000</td>\n",
       "      <td>NaN</td>\n",
       "    </tr>\n",
       "  </tbody>\n",
       "</table>\n",
       "</div>"
      ],
      "text/plain": [
       "   Sr No Date dd/mm/yyyy                  Startup Name    Industry Vertical  \\\n",
       "0      1      09/01/2020                        BYJU’S               E-Tech   \n",
       "1      2      13/01/2020                        Shuttl       Transportation   \n",
       "2      3      09/01/2020                     Mamaearth           E-commerce   \n",
       "3      4      02/01/2020  https://www.wealthbucket.in/              FinTech   \n",
       "4      5      02/01/2020                        Fashor  Fashion and Apparel   \n",
       "\n",
       "                             SubVertical City  Location  \\\n",
       "0                             E-learning      Bengaluru   \n",
       "1              App based shuttle service        Gurgaon   \n",
       "2  Retailer of baby and toddler products      Bengaluru   \n",
       "3                      Online Investment      New Delhi   \n",
       "4            Embroiled Clothes For Women         Mumbai   \n",
       "\n",
       "              Investors Name       InvestmentnType Amount in USD Remarks  \n",
       "0    Tiger Global Management  Private Equity Round  20,00,00,000     NaN  \n",
       "1  Susquehanna Growth Equity              Series C     80,48,394     NaN  \n",
       "2      Sequoia Capital India              Series B   1,83,58,860     NaN  \n",
       "3             Vinod Khatumal          Pre-series A     30,00,000     NaN  \n",
       "4    Sprout Venture Partners            Seed Round     18,00,000     NaN  "
      ]
     },
     "execution_count": 3,
     "metadata": {},
     "output_type": "execute_result"
    }
   ],
   "source": [
    "df.head()"
   ]
  },
  {
   "cell_type": "code",
   "execution_count": 4,
   "id": "2254695b-b5a8-4b98-8a46-f5b10c3ec6c8",
   "metadata": {},
   "outputs": [
    {
     "data": {
      "text/plain": [
       "Sr No                   0\n",
       "Date dd/mm/yyyy         0\n",
       "Startup Name            0\n",
       "Industry Vertical     171\n",
       "SubVertical           936\n",
       "City  Location        180\n",
       "Investors Name         24\n",
       "InvestmentnType         4\n",
       "Amount in USD         960\n",
       "Remarks              2625\n",
       "dtype: int64"
      ]
     },
     "execution_count": 4,
     "metadata": {},
     "output_type": "execute_result"
    }
   ],
   "source": [
    "df.isnull().sum()"
   ]
  },
  {
   "cell_type": "code",
   "execution_count": 5,
   "id": "09af1f40-2f83-4eeb-b211-df0835d461e0",
   "metadata": {},
   "outputs": [],
   "source": [
    "df.drop(columns=['Remarks'], inplace=True)"
   ]
  },
  {
   "cell_type": "code",
   "execution_count": 6,
   "id": "d65d2ab6-bbdf-4803-8fd6-b7cc161cd9fe",
   "metadata": {},
   "outputs": [
    {
     "data": {
      "text/html": [
       "<div>\n",
       "<style scoped>\n",
       "    .dataframe tbody tr th:only-of-type {\n",
       "        vertical-align: middle;\n",
       "    }\n",
       "\n",
       "    .dataframe tbody tr th {\n",
       "        vertical-align: top;\n",
       "    }\n",
       "\n",
       "    .dataframe thead th {\n",
       "        text-align: right;\n",
       "    }\n",
       "</style>\n",
       "<table border=\"1\" class=\"dataframe\">\n",
       "  <thead>\n",
       "    <tr style=\"text-align: right;\">\n",
       "      <th></th>\n",
       "      <th>Sr No</th>\n",
       "      <th>Date dd/mm/yyyy</th>\n",
       "      <th>Startup Name</th>\n",
       "      <th>Industry Vertical</th>\n",
       "      <th>SubVertical</th>\n",
       "      <th>City  Location</th>\n",
       "      <th>Investors Name</th>\n",
       "      <th>InvestmentnType</th>\n",
       "      <th>Amount in USD</th>\n",
       "    </tr>\n",
       "  </thead>\n",
       "  <tbody>\n",
       "    <tr>\n",
       "      <th>0</th>\n",
       "      <td>1</td>\n",
       "      <td>09/01/2020</td>\n",
       "      <td>BYJU’S</td>\n",
       "      <td>E-Tech</td>\n",
       "      <td>E-learning</td>\n",
       "      <td>Bengaluru</td>\n",
       "      <td>Tiger Global Management</td>\n",
       "      <td>Private Equity Round</td>\n",
       "      <td>20,00,00,000</td>\n",
       "    </tr>\n",
       "    <tr>\n",
       "      <th>1</th>\n",
       "      <td>2</td>\n",
       "      <td>13/01/2020</td>\n",
       "      <td>Shuttl</td>\n",
       "      <td>Transportation</td>\n",
       "      <td>App based shuttle service</td>\n",
       "      <td>Gurgaon</td>\n",
       "      <td>Susquehanna Growth Equity</td>\n",
       "      <td>Series C</td>\n",
       "      <td>80,48,394</td>\n",
       "    </tr>\n",
       "    <tr>\n",
       "      <th>2</th>\n",
       "      <td>3</td>\n",
       "      <td>09/01/2020</td>\n",
       "      <td>Mamaearth</td>\n",
       "      <td>E-commerce</td>\n",
       "      <td>Retailer of baby and toddler products</td>\n",
       "      <td>Bengaluru</td>\n",
       "      <td>Sequoia Capital India</td>\n",
       "      <td>Series B</td>\n",
       "      <td>1,83,58,860</td>\n",
       "    </tr>\n",
       "    <tr>\n",
       "      <th>3</th>\n",
       "      <td>4</td>\n",
       "      <td>02/01/2020</td>\n",
       "      <td>https://www.wealthbucket.in/</td>\n",
       "      <td>FinTech</td>\n",
       "      <td>Online Investment</td>\n",
       "      <td>New Delhi</td>\n",
       "      <td>Vinod Khatumal</td>\n",
       "      <td>Pre-series A</td>\n",
       "      <td>30,00,000</td>\n",
       "    </tr>\n",
       "    <tr>\n",
       "      <th>4</th>\n",
       "      <td>5</td>\n",
       "      <td>02/01/2020</td>\n",
       "      <td>Fashor</td>\n",
       "      <td>Fashion and Apparel</td>\n",
       "      <td>Embroiled Clothes For Women</td>\n",
       "      <td>Mumbai</td>\n",
       "      <td>Sprout Venture Partners</td>\n",
       "      <td>Seed Round</td>\n",
       "      <td>18,00,000</td>\n",
       "    </tr>\n",
       "  </tbody>\n",
       "</table>\n",
       "</div>"
      ],
      "text/plain": [
       "   Sr No Date dd/mm/yyyy                  Startup Name    Industry Vertical  \\\n",
       "0      1      09/01/2020                        BYJU’S               E-Tech   \n",
       "1      2      13/01/2020                        Shuttl       Transportation   \n",
       "2      3      09/01/2020                     Mamaearth           E-commerce   \n",
       "3      4      02/01/2020  https://www.wealthbucket.in/              FinTech   \n",
       "4      5      02/01/2020                        Fashor  Fashion and Apparel   \n",
       "\n",
       "                             SubVertical City  Location  \\\n",
       "0                             E-learning      Bengaluru   \n",
       "1              App based shuttle service        Gurgaon   \n",
       "2  Retailer of baby and toddler products      Bengaluru   \n",
       "3                      Online Investment      New Delhi   \n",
       "4            Embroiled Clothes For Women         Mumbai   \n",
       "\n",
       "              Investors Name       InvestmentnType Amount in USD  \n",
       "0    Tiger Global Management  Private Equity Round  20,00,00,000  \n",
       "1  Susquehanna Growth Equity              Series C     80,48,394  \n",
       "2      Sequoia Capital India              Series B   1,83,58,860  \n",
       "3             Vinod Khatumal          Pre-series A     30,00,000  \n",
       "4    Sprout Venture Partners            Seed Round     18,00,000  "
      ]
     },
     "execution_count": 6,
     "metadata": {},
     "output_type": "execute_result"
    }
   ],
   "source": [
    "df.head()"
   ]
  },
  {
   "cell_type": "code",
   "execution_count": 7,
   "id": "95e0beaf-70be-4ab9-b87b-dd3e01e87476",
   "metadata": {},
   "outputs": [
    {
     "name": "stdout",
     "output_type": "stream",
     "text": [
      "Index(['Sr No', 'Date dd/mm/yyyy', 'Startup Name', 'Industry Vertical',\n",
      "       'SubVertical', 'City  Location', 'Investors Name', 'InvestmentnType',\n",
      "       'Amount in USD'],\n",
      "      dtype='object')\n"
     ]
    }
   ],
   "source": [
    "print(df.columns)"
   ]
  },
  {
   "cell_type": "code",
   "execution_count": 8,
   "id": "0caf3f93-d5c6-4b17-8841-6d4e6c57f77b",
   "metadata": {},
   "outputs": [],
   "source": [
    "df['Industry Vertical'] = df['Industry Vertical'].str.replace(r'\\xa0', ' ', regex=True)"
   ]
  },
  {
   "cell_type": "code",
   "execution_count": 9,
   "id": "bcb5ebea-0c5f-445c-a8af-ee9ee8ec768e",
   "metadata": {},
   "outputs": [],
   "source": [
    "df['Date dd/mm/yyyy'] = pd.to_datetime(df['Date dd/mm/yyyy'], format='%d/%m/%Y', errors='coerce')\n",
    "df['Month']=df['Date dd/mm/yyyy'].dt.month\n",
    "df['Year']=df['Date dd/mm/yyyy'].dt.year"
   ]
  },
  {
   "cell_type": "code",
   "execution_count": 10,
   "id": "22de1610-c531-4752-a2d9-14794c6d1acc",
   "metadata": {},
   "outputs": [
    {
     "data": {
      "text/html": [
       "<div>\n",
       "<style scoped>\n",
       "    .dataframe tbody tr th:only-of-type {\n",
       "        vertical-align: middle;\n",
       "    }\n",
       "\n",
       "    .dataframe tbody tr th {\n",
       "        vertical-align: top;\n",
       "    }\n",
       "\n",
       "    .dataframe thead th {\n",
       "        text-align: right;\n",
       "    }\n",
       "</style>\n",
       "<table border=\"1\" class=\"dataframe\">\n",
       "  <thead>\n",
       "    <tr style=\"text-align: right;\">\n",
       "      <th></th>\n",
       "      <th>Sr No</th>\n",
       "      <th>Date dd/mm/yyyy</th>\n",
       "      <th>Startup Name</th>\n",
       "      <th>Industry Vertical</th>\n",
       "      <th>SubVertical</th>\n",
       "      <th>City  Location</th>\n",
       "      <th>Investors Name</th>\n",
       "      <th>InvestmentnType</th>\n",
       "      <th>Amount in USD</th>\n",
       "      <th>Month</th>\n",
       "      <th>Year</th>\n",
       "    </tr>\n",
       "  </thead>\n",
       "  <tbody>\n",
       "    <tr>\n",
       "      <th>0</th>\n",
       "      <td>1</td>\n",
       "      <td>2020-01-09</td>\n",
       "      <td>BYJU’S</td>\n",
       "      <td>E-Tech</td>\n",
       "      <td>E-learning</td>\n",
       "      <td>Bengaluru</td>\n",
       "      <td>Tiger Global Management</td>\n",
       "      <td>Private Equity Round</td>\n",
       "      <td>20,00,00,000</td>\n",
       "      <td>1.0</td>\n",
       "      <td>2020.0</td>\n",
       "    </tr>\n",
       "    <tr>\n",
       "      <th>1</th>\n",
       "      <td>2</td>\n",
       "      <td>2020-01-13</td>\n",
       "      <td>Shuttl</td>\n",
       "      <td>Transportation</td>\n",
       "      <td>App based shuttle service</td>\n",
       "      <td>Gurgaon</td>\n",
       "      <td>Susquehanna Growth Equity</td>\n",
       "      <td>Series C</td>\n",
       "      <td>80,48,394</td>\n",
       "      <td>1.0</td>\n",
       "      <td>2020.0</td>\n",
       "    </tr>\n",
       "    <tr>\n",
       "      <th>2</th>\n",
       "      <td>3</td>\n",
       "      <td>2020-01-09</td>\n",
       "      <td>Mamaearth</td>\n",
       "      <td>E-commerce</td>\n",
       "      <td>Retailer of baby and toddler products</td>\n",
       "      <td>Bengaluru</td>\n",
       "      <td>Sequoia Capital India</td>\n",
       "      <td>Series B</td>\n",
       "      <td>1,83,58,860</td>\n",
       "      <td>1.0</td>\n",
       "      <td>2020.0</td>\n",
       "    </tr>\n",
       "    <tr>\n",
       "      <th>3</th>\n",
       "      <td>4</td>\n",
       "      <td>2020-01-02</td>\n",
       "      <td>https://www.wealthbucket.in/</td>\n",
       "      <td>FinTech</td>\n",
       "      <td>Online Investment</td>\n",
       "      <td>New Delhi</td>\n",
       "      <td>Vinod Khatumal</td>\n",
       "      <td>Pre-series A</td>\n",
       "      <td>30,00,000</td>\n",
       "      <td>1.0</td>\n",
       "      <td>2020.0</td>\n",
       "    </tr>\n",
       "    <tr>\n",
       "      <th>4</th>\n",
       "      <td>5</td>\n",
       "      <td>2020-01-02</td>\n",
       "      <td>Fashor</td>\n",
       "      <td>Fashion and Apparel</td>\n",
       "      <td>Embroiled Clothes For Women</td>\n",
       "      <td>Mumbai</td>\n",
       "      <td>Sprout Venture Partners</td>\n",
       "      <td>Seed Round</td>\n",
       "      <td>18,00,000</td>\n",
       "      <td>1.0</td>\n",
       "      <td>2020.0</td>\n",
       "    </tr>\n",
       "  </tbody>\n",
       "</table>\n",
       "</div>"
      ],
      "text/plain": [
       "   Sr No Date dd/mm/yyyy                  Startup Name    Industry Vertical  \\\n",
       "0      1      2020-01-09                        BYJU’S               E-Tech   \n",
       "1      2      2020-01-13                        Shuttl       Transportation   \n",
       "2      3      2020-01-09                     Mamaearth           E-commerce   \n",
       "3      4      2020-01-02  https://www.wealthbucket.in/              FinTech   \n",
       "4      5      2020-01-02                        Fashor  Fashion and Apparel   \n",
       "\n",
       "                             SubVertical City  Location  \\\n",
       "0                             E-learning      Bengaluru   \n",
       "1              App based shuttle service        Gurgaon   \n",
       "2  Retailer of baby and toddler products      Bengaluru   \n",
       "3                      Online Investment      New Delhi   \n",
       "4            Embroiled Clothes For Women         Mumbai   \n",
       "\n",
       "              Investors Name       InvestmentnType Amount in USD  Month  \\\n",
       "0    Tiger Global Management  Private Equity Round  20,00,00,000    1.0   \n",
       "1  Susquehanna Growth Equity              Series C     80,48,394    1.0   \n",
       "2      Sequoia Capital India              Series B   1,83,58,860    1.0   \n",
       "3             Vinod Khatumal          Pre-series A     30,00,000    1.0   \n",
       "4    Sprout Venture Partners            Seed Round     18,00,000    1.0   \n",
       "\n",
       "     Year  \n",
       "0  2020.0  \n",
       "1  2020.0  \n",
       "2  2020.0  \n",
       "3  2020.0  \n",
       "4  2020.0  "
      ]
     },
     "execution_count": 10,
     "metadata": {},
     "output_type": "execute_result"
    }
   ],
   "source": [
    "df.head()"
   ]
  },
  {
   "cell_type": "markdown",
   "id": "dd9ebf4d-b9b3-42ed-b7ab-f5d114742c65",
   "metadata": {},
   "source": [
    "## Before removing , from \"Amount in USD\" column we need to handle missing values in the coulumn alongwith it"
   ]
  },
  {
   "cell_type": "code",
   "execution_count": 11,
   "id": "9a172995-c284-49fe-8f22-09619a47895d",
   "metadata": {},
   "outputs": [],
   "source": [
    "df['Amount in USD'] = (df['Amount in USD'].astype(str).str.replace(',', '', regex=True).str.replace(r'[^\\d.]', '', regex=True))"
   ]
  },
  {
   "cell_type": "code",
   "execution_count": 12,
   "id": "9fcc038f-5da2-4954-99f9-efef3faa0985",
   "metadata": {},
   "outputs": [
    {
     "data": {
      "text/html": [
       "<div>\n",
       "<style scoped>\n",
       "    .dataframe tbody tr th:only-of-type {\n",
       "        vertical-align: middle;\n",
       "    }\n",
       "\n",
       "    .dataframe tbody tr th {\n",
       "        vertical-align: top;\n",
       "    }\n",
       "\n",
       "    .dataframe thead th {\n",
       "        text-align: right;\n",
       "    }\n",
       "</style>\n",
       "<table border=\"1\" class=\"dataframe\">\n",
       "  <thead>\n",
       "    <tr style=\"text-align: right;\">\n",
       "      <th></th>\n",
       "      <th>Sr No</th>\n",
       "      <th>Date dd/mm/yyyy</th>\n",
       "      <th>Startup Name</th>\n",
       "      <th>Industry Vertical</th>\n",
       "      <th>SubVertical</th>\n",
       "      <th>City  Location</th>\n",
       "      <th>Investors Name</th>\n",
       "      <th>InvestmentnType</th>\n",
       "      <th>Amount in USD</th>\n",
       "      <th>Month</th>\n",
       "      <th>Year</th>\n",
       "    </tr>\n",
       "  </thead>\n",
       "  <tbody>\n",
       "    <tr>\n",
       "      <th>0</th>\n",
       "      <td>1</td>\n",
       "      <td>2020-01-09</td>\n",
       "      <td>BYJU’S</td>\n",
       "      <td>E-Tech</td>\n",
       "      <td>E-learning</td>\n",
       "      <td>Bengaluru</td>\n",
       "      <td>Tiger Global Management</td>\n",
       "      <td>Private Equity Round</td>\n",
       "      <td>200000000</td>\n",
       "      <td>1.0</td>\n",
       "      <td>2020.0</td>\n",
       "    </tr>\n",
       "    <tr>\n",
       "      <th>1</th>\n",
       "      <td>2</td>\n",
       "      <td>2020-01-13</td>\n",
       "      <td>Shuttl</td>\n",
       "      <td>Transportation</td>\n",
       "      <td>App based shuttle service</td>\n",
       "      <td>Gurgaon</td>\n",
       "      <td>Susquehanna Growth Equity</td>\n",
       "      <td>Series C</td>\n",
       "      <td>8048394</td>\n",
       "      <td>1.0</td>\n",
       "      <td>2020.0</td>\n",
       "    </tr>\n",
       "    <tr>\n",
       "      <th>2</th>\n",
       "      <td>3</td>\n",
       "      <td>2020-01-09</td>\n",
       "      <td>Mamaearth</td>\n",
       "      <td>E-commerce</td>\n",
       "      <td>Retailer of baby and toddler products</td>\n",
       "      <td>Bengaluru</td>\n",
       "      <td>Sequoia Capital India</td>\n",
       "      <td>Series B</td>\n",
       "      <td>18358860</td>\n",
       "      <td>1.0</td>\n",
       "      <td>2020.0</td>\n",
       "    </tr>\n",
       "    <tr>\n",
       "      <th>3</th>\n",
       "      <td>4</td>\n",
       "      <td>2020-01-02</td>\n",
       "      <td>https://www.wealthbucket.in/</td>\n",
       "      <td>FinTech</td>\n",
       "      <td>Online Investment</td>\n",
       "      <td>New Delhi</td>\n",
       "      <td>Vinod Khatumal</td>\n",
       "      <td>Pre-series A</td>\n",
       "      <td>3000000</td>\n",
       "      <td>1.0</td>\n",
       "      <td>2020.0</td>\n",
       "    </tr>\n",
       "    <tr>\n",
       "      <th>4</th>\n",
       "      <td>5</td>\n",
       "      <td>2020-01-02</td>\n",
       "      <td>Fashor</td>\n",
       "      <td>Fashion and Apparel</td>\n",
       "      <td>Embroiled Clothes For Women</td>\n",
       "      <td>Mumbai</td>\n",
       "      <td>Sprout Venture Partners</td>\n",
       "      <td>Seed Round</td>\n",
       "      <td>1800000</td>\n",
       "      <td>1.0</td>\n",
       "      <td>2020.0</td>\n",
       "    </tr>\n",
       "  </tbody>\n",
       "</table>\n",
       "</div>"
      ],
      "text/plain": [
       "   Sr No Date dd/mm/yyyy                  Startup Name    Industry Vertical  \\\n",
       "0      1      2020-01-09                        BYJU’S               E-Tech   \n",
       "1      2      2020-01-13                        Shuttl       Transportation   \n",
       "2      3      2020-01-09                     Mamaearth           E-commerce   \n",
       "3      4      2020-01-02  https://www.wealthbucket.in/              FinTech   \n",
       "4      5      2020-01-02                        Fashor  Fashion and Apparel   \n",
       "\n",
       "                             SubVertical City  Location  \\\n",
       "0                             E-learning      Bengaluru   \n",
       "1              App based shuttle service        Gurgaon   \n",
       "2  Retailer of baby and toddler products      Bengaluru   \n",
       "3                      Online Investment      New Delhi   \n",
       "4            Embroiled Clothes For Women         Mumbai   \n",
       "\n",
       "              Investors Name       InvestmentnType Amount in USD  Month  \\\n",
       "0    Tiger Global Management  Private Equity Round     200000000    1.0   \n",
       "1  Susquehanna Growth Equity              Series C       8048394    1.0   \n",
       "2      Sequoia Capital India              Series B      18358860    1.0   \n",
       "3             Vinod Khatumal          Pre-series A       3000000    1.0   \n",
       "4    Sprout Venture Partners            Seed Round       1800000    1.0   \n",
       "\n",
       "     Year  \n",
       "0  2020.0  \n",
       "1  2020.0  \n",
       "2  2020.0  \n",
       "3  2020.0  \n",
       "4  2020.0  "
      ]
     },
     "execution_count": 12,
     "metadata": {},
     "output_type": "execute_result"
    }
   ],
   "source": [
    "df.head()"
   ]
  },
  {
   "cell_type": "code",
   "execution_count": 13,
   "id": "8eecad6a-8343-430b-8497-7baba24dbc8e",
   "metadata": {},
   "outputs": [
    {
     "data": {
      "text/plain": [
       "0"
      ]
     },
     "execution_count": 13,
     "metadata": {},
     "output_type": "execute_result"
    }
   ],
   "source": [
    "df.duplicated().sum()"
   ]
  },
  {
   "cell_type": "markdown",
   "id": "d01a18ce-15c7-4f93-9076-8d43d153960b",
   "metadata": {},
   "source": [
    "## Funding Trends over Time"
   ]
  },
  {
   "cell_type": "code",
   "execution_count": 14,
   "id": "8cb4ab9d-304d-4d9a-8dea-202df931836f",
   "metadata": {},
   "outputs": [
    {
     "data": {
      "image/png": "[encoded data removed]",
      "text/plain": [
       "<Figure size 800x500 with 1 Axes>"
      ]
     },
     "metadata": {},
     "output_type": "display_data"
    }
   ],
   "source": [
    "df['Amount in USD'] = pd.to_numeric(df['Amount in USD'], errors='coerce')\n",
    "plt.figure(figsize=(8,5))\n",
    "df.groupby(df['Year'])['Amount in USD'].mean().plot(kind='line', marker='o')\n",
    "plt.title(\"Funding Trends over Time\")\n",
    "plt.xlabel(\"Date of Funding\")\n",
    "plt.ylabel(\"Amount in USD\")\n",
    "plt.grid()\n",
    "plt.show()"
   ]
  },
  {
   "cell_type": "code",
   "execution_count": 15,
   "id": "114616b2-e5b8-47b7-a5b1-4bda2d065592",
   "metadata": {},
   "outputs": [
    {
     "data": {
      "text/plain": [
       "Year\n",
       "2015.0    2.590252e+07\n",
       "2016.0    6.532574e+06\n",
       "2017.0    2.287129e+07\n",
       "2018.0    1.937924e+07\n",
       "2019.0    9.238970e+07\n",
       "2020.0    5.574389e+07\n",
       "Name: Amount in USD, dtype: float64"
      ]
     },
     "execution_count": 15,
     "metadata": {},
     "output_type": "execute_result"
    }
   ],
   "source": [
    "mean_funding_per_year = df.groupby('Year')['Amount in USD'].mean()\n",
    "mean_funding_per_year"
   ]
  },
  {
   "cell_type": "markdown",
   "id": "caad9cdc-9d22-4a4c-aa80-81e630d6e41b",
   "metadata": {},
   "source": [
    "## Top Funded Industry Vertical\n",
    "### The values show the total funding received by top 10 most funded industry"
   ]
  },
  {
   "cell_type": "code",
   "execution_count": 16,
   "id": "7e414d18-bd7d-4a2a-9c97-206ad28c8b77",
   "metadata": {},
   "outputs": [
    {
     "data": {
      "text/plain": [
       "Industry Vertical\n",
       "Consumer Internet                                     6.253084e+09\n",
       "eCommerce                                             5.002533e+09\n",
       "Transportation                                        3.916632e+09\n",
       "Technology                                            2.229708e+09\n",
       "\\\\xc2\\\\xa0News Aggregator mobile app                  2.020000e+09\n",
       "\\\\xc2\\\\xa0Premium Loyalty Rewards Point Management    2.019350e+09\n",
       "\\\\xc2\\\\xa0Online Jewellery Store                      2.016200e+09\n",
       "\\\\xc2\\\\xa0Casual Dining restaurant Chain              2.010000e+09\n",
       "Finance                                               1.971438e+09\n",
       "ECommerce                                             1.878798e+09\n",
       "Name: Amount in USD, dtype: float64"
      ]
     },
     "execution_count": 16,
     "metadata": {},
     "output_type": "execute_result"
    }
   ],
   "source": [
    "top_funded_indust=df.groupby(\"Industry Vertical\")['Amount in USD'].sum().sort_values(ascending=False)\n",
    "top_funded_indust.head(10)"
   ]
  },
  {
   "cell_type": "markdown",
   "id": "bf0604b4-1012-4412-bb7c-72b529330734",
   "metadata": {},
   "source": [
    "### The values given below show the top 10 industry with the highest average funding per deal"
   ]
  },
  {
   "cell_type": "code",
   "execution_count": 17,
   "id": "3f6b5a87-5a51-43f1-a82d-45ea070fe747",
   "metadata": {},
   "outputs": [
    {
     "data": {
      "text/plain": [
       "Industry Vertical\n",
       "\\\\xc2\\\\xa0News Aggregator mobile app                  2.020000e+09\n",
       "\\\\xc2\\\\xa0Premium Loyalty Rewards Point Management    2.019350e+09\n",
       "\\\\xc2\\\\xa0Online Jewellery Store                      2.016200e+09\n",
       "\\\\xc2\\\\xa0Casual Dining restaurant Chain              2.010000e+09\n",
       "Transportation                                        9.791581e+08\n",
       "E-Commerce & M-Commerce platform                      6.800000e+08\n",
       "Ecommerce Marketplace                                 5.000000e+08\n",
       "Car Aggregator & Retail Mobile App                    5.000000e+08\n",
       "Cab Aggregator                                        4.000000e+08\n",
       "Online Marketplace                                    3.500715e+08\n",
       "Name: Amount in USD, dtype: float64"
      ]
     },
     "execution_count": 17,
     "metadata": {},
     "output_type": "execute_result"
    }
   ],
   "source": [
    "top_funded_indust=df.groupby(\"Industry Vertical\")['Amount in USD'].mean().sort_values(ascending=False)\n",
    "top_funded_indust.head(10)"
   ]
  },
  {
   "cell_type": "markdown",
   "id": "7150edcf-ccd3-4db7-ba9c-c8b3462ca48e",
   "metadata": {},
   "source": [
    "## Funding Distribution by Investment Type"
   ]
  },
  {
   "cell_type": "code",
   "execution_count": 34,
   "id": "dfaefbcc-cc1b-40fc-a010-8ba24aa153bc",
   "metadata": {},
   "outputs": [
    {
     "data": {
      "text/html": [
       "<iframe\n",
       "    scrolling=\"no\"\n",
       "    width=\"820px\"\n",
       "    height=\"620\"\n",
       "    src=\"iframe_figures/figure_34.html\"\n",
       "    frameborder=\"0\"\n",
       "    allowfullscreen\n",
       "></iframe>\n"
      ]
     },
     "metadata": {},
     "output_type": "display_data"
    }
   ],
   "source": [
    "import string\n",
    "import plotly.graph_objects as go\n",
    "\n",
    "# Function to remove punctuation\n",
    "def remove_punctuation(text):\n",
    "    return text.translate(str.maketrans('', '', string.punctuation))\n",
    "\n",
    "# Fixing column name and applying transformation\n",
    "df['InvestmentnType'] = df['InvestmentnType'].astype(str).apply(remove_punctuation)\n",
    "\n",
    "# Mapping incorrect investment types to standardized names\n",
    "funding_map = {\n",
    "    \"SeedAngel Funding\": \"Seed Angel Funding\",\n",
    "    \"SeedFunding\": \"Seed Funding\",\n",
    "    \"PrivateEquity\": \"Private Equity\",\n",
    "    \"Crowd funding\": \"Crowd Funding\",\n",
    "    \"Angel  Seed Funding\": \"Seed Angel Funding\",\n",
    "    \"Seed  Angel Funding\": \"Seed Angel Funding\",\n",
    "    \"Seed Angle Funding\": \"Seed Angel Funding\",\n",
    "    \"Seed  Angle Funding\": \"Seed Angel Funding\",\n",
    "    \"SeednFunding\": \"Seed Funding\",\n",
    "    \"Seed funding\": \"Seed Funding\",\n",
    "    \"Seed Round\": \"Seed Funding\",\n",
    "    \"preSeries A\": \"PreSeries A\",\n",
    "    \"preseries A\": \"PreSeries A\",\n",
    "    \"Pre Series A\": \"PreSeries A\"\n",
    "}\n",
    "\n",
    "# **Fixed Line:** (Correcting the syntax error)\n",
    "df['InvestmentnType'] = df['InvestmentnType'].replace(funding_map)\n",
    "\n",
    "def horizontal_bar_chart(srs, color):\n",
    "    return go.Bar(\n",
    "        x=srs.values[::-1],\n",
    "        y=srs.index[::-1],\n",
    "        orientation='h',\n",
    "        showlegend=False,\n",
    "        marker=dict(color=color)\n",
    "    )\n",
    "\n",
    "# Getting top 10 investment types by count\n",
    "cnt_srs = df['InvestmentnType'].value_counts().head(10)\n",
    "\n",
    "# Setting up layout for the chart\n",
    "layout = go.Layout(\n",
    "    title=\"Count of Investment type\",\n",
    "    title_x=0.5,\n",
    "    font=dict(size=14),\n",
    "    width=800,\n",
    "    height=600,\n",
    ")\n",
    "\n",
    "# Creating and displaying the figure\n",
    "fig = go.Figure(data=[horizontal_bar_chart(cnt_srs, \"#1E90FF\")], layout=layout)\n",
    "fig.show(renderer='iframe')\n"
   ]
  },
  {
   "cell_type": "markdown",
   "id": "8fd2cf1b-e390-4483-9228-f8960216cd0e",
   "metadata": {},
   "source": [
    "### The analysis of investment types reveals that Private Equity and Seed Funding are the most common forms of investment"
   ]
  },
  {
   "cell_type": "markdown",
   "id": "c6cb7468-aad8-4bca-8146-7b49e242ad62",
   "metadata": {},
   "source": [
    "## Top cities for startup funding"
   ]
  },
  {
   "cell_type": "code",
   "execution_count": 33,
   "id": "a1d03084-d053-4e9e-adc3-304decd11e36",
   "metadata": {},
   "outputs": [
    {
     "data": {
      "text/html": [
       "<iframe\n",
       "    scrolling=\"no\"\n",
       "    width=\"820px\"\n",
       "    height=\"820\"\n",
       "    src=\"iframe_figures/figure_33.html\"\n",
       "    frameborder=\"0\"\n",
       "    allowfullscreen\n",
       "></iframe>\n"
      ]
     },
     "metadata": {},
     "output_type": "display_data"
    }
   ],
   "source": [
    "def remove_punctuation(text):\n",
    "    return text.translate(str.maketrans('', '', string.punctuation))\n",
    "    \n",
    "df['City  Location'] = df['City  Location'].astype(str).apply(remove_punctuation)\n",
    "location_map = {\n",
    "    \"Bengaluru\": \"Bangalore\",\n",
    "    \"Delhi\": \"NCR\",\n",
    "    \"New Delhi\": \"NCR\",\n",
    "    \"Gurugram\": \"NCR\",\n",
    "    \"Gurgaon\": \"NCR\",\n",
    "    \"Noida\": \"NCR\"\n",
    "}\n",
    "df['City  Location'] = df['City  Location'].replace(location_map)\n",
    "\n",
    "def horizontal_bar_chart(srs, color):\n",
    "    return go.Bar(\n",
    "        x=srs.values[::-1],\n",
    "        y=srs.index[::-1],\n",
    "        orientation='h',\n",
    "        showlegend=False,\n",
    "        marker=dict(color=color)\n",
    "    )\n",
    "\n",
    "\n",
    "cnt_srs = df['City  Location'].value_counts().head(14)\n",
    "layout = go.Layout(\n",
    "    title=\"Number of funding deals in each location\",\n",
    "    title_x=0.5,\n",
    "    font=dict(size=14),\n",
    "    width=800,\n",
    "    height=800,\n",
    ")\n",
    "\n",
    "\n",
    "fig = go.Figure(data=[horizontal_bar_chart(cnt_srs, \"#1E90FF\")], layout=layout)\n",
    "fig.show(renderer='iframe')"
   ]
  },
  {
   "cell_type": "code",
   "execution_count": 24,
   "id": "08ae6291-f250-4225-a646-6cd3476ba5f5",
   "metadata": {},
   "outputs": [
    {
     "data": {
      "text/plain": [
       "City  Location\n",
       "Bangalore    1.136159e+10\n",
       "Bengaluru    7.112921e+09\n",
       "Mumbai       4.921185e+09\n",
       "New Delhi    3.017817e+09\n",
       "Gurgaon      3.005296e+09\n",
       "Name: Amount in USD, dtype: float64"
      ]
     },
     "execution_count": 24,
     "metadata": {},
     "output_type": "execute_result"
    }
   ],
   "source": [
    "top_cities=df.groupby('City  Location')['Amount in USD'].sum().sort_values(ascending=False)\n",
    "top_cities.head(5)"
   ]
  },
  {
   "cell_type": "markdown",
   "id": "2868ddcc-c664-4b2d-920b-d84263ac0c07",
   "metadata": {},
   "source": [
    "## Which industries are favored by investors for funding?"
   ]
  },
  {
   "cell_type": "code",
   "execution_count": 25,
   "id": "44e056eb-d013-4dc7-bd03-d7fd5b3e9f6a",
   "metadata": {},
   "outputs": [
    {
     "name": "stdout",
     "output_type": "stream",
     "text": [
      "Index(['Sr No', 'Date dd/mm/yyyy', 'Startup Name', 'Industry Vertical',\n",
      "       'SubVertical', 'City  Location', 'Investors Name', 'InvestmentnType',\n",
      "       'Amount in USD', 'Month', 'Year'],\n",
      "      dtype='object')\n"
     ]
    }
   ],
   "source": [
    "print(df.columns)"
   ]
  },
  {
   "cell_type": "code",
   "execution_count": 26,
   "id": "c0873fdb-f5de-49df-b13f-10de193d2295",
   "metadata": {},
   "outputs": [
    {
     "data": {
      "image/png": "[encoded data removed]",
      "text/plain": [
       "<Figure size 800x1000 with 1 Axes>"
      ]
     },
     "metadata": {},
     "output_type": "display_data"
    }
   ],
   "source": [
    "favoured_industry=df.groupby('Industry Vertical')['Amount in USD'].sum().sort_values(ascending=False).head(10)\n",
    "favoured_industry.plot(kind='bar',figsize=(8,10))\n",
    "plt.xlabel(\"Total Funding (USD)\")\n",
    "plt.ylabel(\"Industry Vertical\")\n",
    "plt.title(\"Top 10 Industries by Total Funding in India\")\n",
    "plt.show()"
   ]
  },
  {
   "cell_type": "markdown",
   "id": "a40e6b96-8888-4ecd-8939-f79111d773ba",
   "metadata": {},
   "source": [
    "## Who are the important investors in the Indian Ecosystem?"
   ]
  },
  {
   "cell_type": "code",
   "execution_count": 27,
   "id": "3271e101-eb3c-4bc0-be76-49b6212cfe2f",
   "metadata": {},
   "outputs": [
    {
     "name": "stderr",
     "output_type": "stream",
     "text": [
      "C:\\Users\\anshu\\AppData\\Local\\Temp\\ipykernel_27212\\891196136.py:4: FutureWarning:\n",
      "\n",
      "\n",
      "\n",
      "Passing `palette` without assigning `hue` is deprecated and will be removed in v0.14.0. Assign the `y` variable to `hue` and set `legend=False` for the same effect.\n",
      "\n",
      "\n"
     ]
    },
    {
     "data": {
      "image/png": "[encoded data removed]",
      "text/plain": [
       "<Figure size 1200x600 with 1 Axes>"
      ]
     },
     "metadata": {},
     "output_type": "display_data"
    }
   ],
   "source": [
    "top_funding_investors = df.groupby(\"Investors Name\")[\"Amount in USD\"].sum().sort_values(ascending=False).head(10)\n",
    "\n",
    "plt.figure(figsize=(12,6))\n",
    "sns.barplot(x=top_funding_investors.values, y=top_funding_investors.index, palette=\"viridis\")\n",
    "plt.xlabel(\"Number of Investments\")\n",
    "plt.ylabel(\"Investor Name\")\n",
    "plt.title(\"Top 10 Investors in India (by Number of Investments)\")\n",
    "plt.show()\n"
   ]
  },
  {
   "cell_type": "markdown",
   "id": "30e8cb58-9719-4f00-a22f-e6aa9b1c4967",
   "metadata": {},
   "source": [
    "## How much funds do startups generally get in India?"
   ]
  },
  {
   "cell_type": "code",
   "execution_count": 28,
   "id": "7616ea6b-6c55-47dd-b7b3-12cfa4b86c45",
   "metadata": {},
   "outputs": [
    {
     "name": "stdout",
     "output_type": "stream",
     "text": [
      "count    2.077000e+03\n",
      "mean     2.233217e+07\n",
      "std      1.494657e+08\n",
      "min      2.000000e+01\n",
      "25%      4.700000e+05\n",
      "50%      1.750000e+06\n",
      "75%      8.200000e+06\n",
      "max      3.900000e+09\n",
      "Name: Amount in USD, dtype: float64\n"
     ]
    },
    {
     "data": {
      "image/png": "[encoded data removed]",
      "text/plain": [
       "<Figure size 1000x500 with 1 Axes>"
      ]
     },
     "metadata": {},
     "output_type": "display_data"
    }
   ],
   "source": [
    "print(df[\"Amount in USD\"].describe())\n",
    "\n",
    "plt.figure(figsize=(10,5))\n",
    "sns.boxplot(x=df[\"Amount in USD\"])\n",
    "plt.xlabel(\"Funding Amount (USD)\")\n",
    "plt.title(\"Distribution of Startup Funding in India\")\n",
    "plt.show()"
   ]
  },
  {
   "cell_type": "markdown",
   "id": "35db748e-cf73-4707-937b-baafa12565a6",
   "metadata": {},
   "source": [
    "### The median funding amount (50th percentile) tells how much startups usually raise.\n",
    "### The outliers show, that they are big unicorn startups raising huge rounds."
   ]
  }
 ],
 "metadata": {
  "kernelspec": {
   "display_name": "Python 3 (ipykernel)",
   "language": "python",
   "name": "python3"
  },
  "language_info": {
   "codemirror_mode": {
    "name": "ipython",
    "version": 3
   },
   "file_extension": ".py",
   "mimetype": "text/x-python",
   "name": "python",
   "nbconvert_exporter": "python",
   "pygments_lexer": "ipython3",
   "version": "3.12.1"
  }
 },
 "nbformat": 4,
 "nbformat_minor": 5
}
